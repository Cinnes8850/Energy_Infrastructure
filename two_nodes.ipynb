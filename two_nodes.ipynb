{
  "nbformat": 4,
  "nbformat_minor": 0,
  "metadata": {
    "colab": {
      "provenance": [],
      "include_colab_link": true
    },
    "kernelspec": {
      "name": "python3",
      "display_name": "Python 3"
    },
    "language_info": {
      "name": "python"
    }
  },
  "cells": [
    {
      "cell_type": "markdown",
      "metadata": {
        "id": "view-in-github",
        "colab_type": "text"
      },
      "source": [
        "<a href=\"https://colab.research.google.com/github/Cinnes8850/Energy_Infrastructure/blob/main/two_nodes.ipynb\" target=\"_parent\"><img src=\"https://colab.research.google.com/assets/colab-badge.svg\" alt=\"Open In Colab\"/></a>"
      ]
    },
    {
      "cell_type": "code",
      "execution_count": null,
      "metadata": {
        "colab": {
          "base_uri": "https://localhost:8080/"
        },
        "id": "FWtGbpfB6Cgl",
        "outputId": "c82f1f97-3b7f-4745-e79d-a5690ed3d810"
      },
      "outputs": [
        {
          "output_type": "stream",
          "name": "stdout",
          "text": [
            "Requirement already satisfied: gurobipy in /usr/local/lib/python3.11/dist-packages (12.0.1)\n"
          ]
        }
      ],
      "source": [
        "# Install\n",
        "!pip install -q pyomo\n",
        "!pip install gurobipy"
      ]
    },
    {
      "cell_type": "code",
      "source": [
        "# load libraries and solver\n",
        "from pyomo.environ import *\n",
        "from pyomo.opt import SolverFactory, TerminationCondition\n",
        "import sys\n",
        "sys.meta_path = [hook for hook in sys.meta_path if hasattr(hook, \"find_spec\")]\n",
        "import gurobipy as gp  # import the installed package"
      ],
      "metadata": {
        "id": "ZUDw9nZr6Im8"
      },
      "execution_count": null,
      "outputs": []
    },
    {
      "cell_type": "code",
      "source": [
        "# create PYOMO optimization model\n",
        "mdl = ConcreteModel()"
      ],
      "metadata": {
        "id": "CML0WY0f6KmT"
      },
      "execution_count": null,
      "outputs": []
    },
    {
      "cell_type": "code",
      "source": [
        "# define lines (i,j): (min_flow, max_flow)\n",
        "line_data = {(1, 2): [-10, 10]}"
      ],
      "metadata": {
        "id": "QH12XAEe6NK7"
      },
      "execution_count": null,
      "outputs": []
    },
    {
      "cell_type": "code",
      "source": [
        "# Sets\n",
        "mdl.Consumers = Set(initialize=[\"k1\", \"k2\"])\n",
        "mdl.Generators = Set(initialize=[\"g1\", \"g2\"])"
      ],
      "metadata": {
        "id": "qKh9TixF6S0E"
      },
      "execution_count": null,
      "outputs": []
    },
    {
      "cell_type": "code",
      "source": [
        "# additional sets\n",
        "mdl.Nodes = Set(initialize=[1, 2])\n",
        "mdl.Lines = Set(initialize=line_data.keys(), dimen=2)"
      ],
      "metadata": {
        "id": "uJYeTABd6U3D"
      },
      "execution_count": null,
      "outputs": []
    },
    {
      "cell_type": "code",
      "source": [
        "# We can check the whole model with:\n",
        "mdl.pprint()"
      ],
      "metadata": {
        "colab": {
          "base_uri": "https://localhost:8080/"
        },
        "id": "bPdvKPeV6Wxr",
        "outputId": "651b9e72-bfbf-457b-d32c-43508f954767"
      },
      "execution_count": null,
      "outputs": [
        {
          "output_type": "stream",
          "name": "stdout",
          "text": [
            "4 Set Declarations\n",
            "    Consumers : Size=1, Index=None, Ordered=Insertion\n",
            "        Key  : Dimen : Domain : Size : Members\n",
            "        None :     1 :    Any :    2 : {'k1', 'k2'}\n",
            "    Generators : Size=1, Index=None, Ordered=Insertion\n",
            "        Key  : Dimen : Domain : Size : Members\n",
            "        None :     1 :    Any :    2 : {'g1', 'g2'}\n",
            "    Lines : Size=1, Index=None, Ordered=Insertion\n",
            "        Key  : Dimen : Domain : Size : Members\n",
            "        None :     2 :    Any :    1 : {(1, 2),}\n",
            "    Nodes : Size=1, Index=None, Ordered=Insertion\n",
            "        Key  : Dimen : Domain : Size : Members\n",
            "        None :     1 :    Any :    2 : {1, 2}\n",
            "\n",
            "4 Declarations: Consumers Generators Nodes Lines\n"
          ]
        }
      ]
    },
    {
      "cell_type": "code",
      "source": [
        "# Bid prices for demand and supply as nested Python dictionaries\n",
        "# (we can use also Param() to create a parameter with Pyomo)\n",
        "price_dem = {1: {\"k1\": 30, \"k2\":  5},\n",
        "             2: {\"k1\": 50, \"k2\":  0}}\n",
        "price_gen = {1: {\"g1\": 20, \"g2\": 40},\n",
        "             2: {\"g1\":  5, \"g2\": 10}}"
      ],
      "metadata": {
        "id": "Kn09HJch6ZCE"
      },
      "execution_count": null,
      "outputs": []
    },
    {
      "cell_type": "code",
      "source": [
        "# nested dictionary must be accessed using both keys, as follows:\n",
        "print(price_dem[1][\"k1\"])"
      ],
      "metadata": {
        "colab": {
          "base_uri": "https://localhost:8080/"
        },
        "id": "ruYE_NNF6fRk",
        "outputId": "4ab47dc9-0d10-44d6-b965-3901b9c871c4"
      },
      "execution_count": null,
      "outputs": [
        {
          "output_type": "stream",
          "name": "stdout",
          "text": [
            "30\n"
          ]
        }
      ]
    },
    {
      "cell_type": "code",
      "source": [
        "# Max quantity for demand and supply as nested Python dictionaries\n",
        "max_dem = {1: {\"k1\": 100, \"k2\": 100},\n",
        "           2: {\"k1\":  80, \"k2\":  10}}\n",
        "max_gen = {1: {\"g1\":  30, \"g2\": 100},\n",
        "           2: {\"g1\":  20, \"g2\": 150}}"
      ],
      "metadata": {
        "id": "y6f_SXKK6jak"
      },
      "execution_count": null,
      "outputs": []
    },
    {
      "cell_type": "code",
      "source": [
        "# Variables for demand and generation\n",
        "mdl.dem = Var(mdl.Nodes, mdl.Consumers, domain=NonNegativeReals)\n",
        "mdl.gen = Var(mdl.Nodes, mdl.Generators, domain=NonNegativeReals)"
      ],
      "metadata": {
        "id": "3TpqwwEQ6nO8"
      },
      "execution_count": null,
      "outputs": []
    },
    {
      "cell_type": "code",
      "source": [
        "# we can check individual components\n",
        "mdl.dem.pprint()\n",
        "mdl.gen.pprint()"
      ],
      "metadata": {
        "colab": {
          "base_uri": "https://localhost:8080/"
        },
        "id": "bb1-wCrh6pmr",
        "outputId": "64ee6cfa-19ae-47a7-942e-41d011119526"
      },
      "execution_count": null,
      "outputs": [
        {
          "output_type": "stream",
          "name": "stdout",
          "text": [
            "dem : Size=4, Index=Nodes*Consumers\n",
            "    Key       : Lower : Value : Upper : Fixed : Stale : Domain\n",
            "    (1, 'k1') :     0 :  None :  None : False :  True : NonNegativeReals\n",
            "    (1, 'k2') :     0 :  None :  None : False :  True : NonNegativeReals\n",
            "    (2, 'k1') :     0 :  None :  None : False :  True : NonNegativeReals\n",
            "    (2, 'k2') :     0 :  None :  None : False :  True : NonNegativeReals\n",
            "gen : Size=4, Index=Nodes*Generators\n",
            "    Key       : Lower : Value : Upper : Fixed : Stale : Domain\n",
            "    (1, 'g1') :     0 :  None :  None : False :  True : NonNegativeReals\n",
            "    (1, 'g2') :     0 :  None :  None : False :  True : NonNegativeReals\n",
            "    (2, 'g1') :     0 :  None :  None : False :  True : NonNegativeReals\n",
            "    (2, 'g2') :     0 :  None :  None : False :  True : NonNegativeReals\n"
          ]
        }
      ]
    },
    {
      "cell_type": "code",
      "source": [
        "# power flow variable\n",
        "mdl.f = Var(mdl.Lines, domain=Reals)\n",
        "\n",
        "# check\n",
        "mdl.f.pprint()"
      ],
      "metadata": {
        "colab": {
          "base_uri": "https://localhost:8080/"
        },
        "id": "-SCatEDJ6sJL",
        "outputId": "f30954bb-6da5-4ecb-8d07-538d2ef41fbb"
      },
      "execution_count": null,
      "outputs": [
        {
          "output_type": "stream",
          "name": "stdout",
          "text": [
            "f : Size=1, Index=Lines\n",
            "    Key    : Lower : Value : Upper : Fixed : Stale : Domain\n",
            "    (1, 2) :  None :  None :  None : False :  True :  Reals\n"
          ]
        }
      ]
    },
    {
      "cell_type": "code",
      "source": [
        "# Constraints\n",
        "def dem_max_rule(self, n, k):\n",
        "    return mdl.dem[n,k] <= max_dem[n][k]\n",
        "mdl.dem_max_constrait = Constraint(mdl.Nodes, mdl.Consumers, rule=dem_max_rule)\n",
        "\n",
        "# check\n",
        "mdl.dem_max_constrait.pprint()"
      ],
      "metadata": {
        "colab": {
          "base_uri": "https://localhost:8080/"
        },
        "id": "rxtlTLTu6vnr",
        "outputId": "2929f4db-d860-4d9e-804f-43b70ec25848"
      },
      "execution_count": null,
      "outputs": [
        {
          "output_type": "stream",
          "name": "stdout",
          "text": [
            "dem_max_constrait : Size=4, Index=Nodes*Consumers, Active=True\n",
            "    Key       : Lower : Body      : Upper : Active\n",
            "    (1, 'k1') :  -Inf : dem[1,k1] : 100.0 :   True\n",
            "    (1, 'k2') :  -Inf : dem[1,k2] : 100.0 :   True\n",
            "    (2, 'k1') :  -Inf : dem[2,k1] :  80.0 :   True\n",
            "    (2, 'k2') :  -Inf : dem[2,k2] :  10.0 :   True\n"
          ]
        }
      ]
    },
    {
      "cell_type": "code",
      "source": [
        "def gen_max_rule(self, n, g):\n",
        "    return mdl.gen[n,g] <= max_gen[n][g]\n",
        "mdl.gen_max_constrait = Constraint(mdl.Nodes, mdl.Generators, rule=gen_max_rule)\n",
        "\n",
        "# check\n",
        "mdl.gen_max_constrait.pprint()"
      ],
      "metadata": {
        "colab": {
          "base_uri": "https://localhost:8080/"
        },
        "id": "LYPknzPD6yp7",
        "outputId": "b057eea1-b472-4da7-9e10-fc9fa60e41e9"
      },
      "execution_count": null,
      "outputs": [
        {
          "output_type": "stream",
          "name": "stdout",
          "text": [
            "gen_max_constrait : Size=4, Index=Nodes*Generators, Active=True\n",
            "    Key       : Lower : Body      : Upper : Active\n",
            "    (1, 'g1') :  -Inf : gen[1,g1] :  30.0 :   True\n",
            "    (1, 'g2') :  -Inf : gen[1,g2] : 100.0 :   True\n",
            "    (2, 'g1') :  -Inf : gen[2,g1] :  20.0 :   True\n",
            "    (2, 'g2') :  -Inf : gen[2,g2] : 150.0 :   True\n"
          ]
        }
      ]
    },
    {
      "cell_type": "code",
      "source": [
        "tot_dem = sum(mdl.dem[1, k] for k in mdl.Consumers)\n",
        "tot_gen = sum(mdl.gen[1, g] for g in mdl.Generators)\n",
        "mdl.power_balance_1 = Constraint(expr=tot_dem - tot_gen + mdl.f[(1,2)] == 0)"
      ],
      "metadata": {
        "id": "rxmKzbg-660c"
      },
      "execution_count": null,
      "outputs": []
    },
    {
      "cell_type": "code",
      "source": [
        "tot_dem = sum(mdl.dem[2, k] for k in mdl.Consumers)\n",
        "tot_gen = sum(mdl.gen[2, g] for g in mdl.Generators)\n",
        "mdl.power_balance_2 = Constraint(expr=tot_dem - tot_gen - mdl.f[(1,2)] == 0)"
      ],
      "metadata": {
        "id": "J7Gko7h368QL"
      },
      "execution_count": null,
      "outputs": []
    },
    {
      "cell_type": "code",
      "source": [
        "# check\n",
        "mdl.power_balance_1.pprint()\n",
        "mdl.power_balance_2.pprint()"
      ],
      "metadata": {
        "colab": {
          "base_uri": "https://localhost:8080/"
        },
        "id": "FFDReOhC6-oE",
        "outputId": "d8a3ed27-133a-46c0-ed4c-716658500013"
      },
      "execution_count": null,
      "outputs": [
        {
          "output_type": "stream",
          "name": "stdout",
          "text": [
            "power_balance_1 : Size=1, Index=None, Active=True\n",
            "    Key  : Lower : Body                                                     : Upper : Active\n",
            "    None :   0.0 : dem[1,k1] + dem[1,k2] - (gen[1,g1] + gen[1,g2]) + f[1,2] :   0.0 :   True\n",
            "power_balance_2 : Size=1, Index=None, Active=True\n",
            "    Key  : Lower : Body                                                     : Upper : Active\n",
            "    None :   0.0 : dem[2,k1] + dem[2,k2] - (gen[2,g1] + gen[2,g2]) - f[1,2] :   0.0 :   True\n"
          ]
        }
      ]
    },
    {
      "cell_type": "code",
      "source": [
        "# min flow\n",
        "def min_flow_rule(self, i,j):\n",
        "    return line_data[(i,j)][0] <= mdl.f[i,j]\n",
        "mdl.min_flow = Constraint(mdl.Lines, rule=min_flow_rule)\n",
        "\n",
        "# check\n",
        "mdl.min_flow.pprint()"
      ],
      "metadata": {
        "colab": {
          "base_uri": "https://localhost:8080/"
        },
        "id": "BvyS8dbb7BRD",
        "outputId": "c698b31b-0131-4e8d-848b-fb2295b3fe91"
      },
      "execution_count": null,
      "outputs": [
        {
          "output_type": "stream",
          "name": "stdout",
          "text": [
            "min_flow : Size=1, Index=Lines, Active=True\n",
            "    Key    : Lower : Body   : Upper : Active\n",
            "    (1, 2) : -10.0 : f[1,2] :  +Inf :   True\n"
          ]
        }
      ]
    },
    {
      "cell_type": "code",
      "source": [
        "# max flow\n",
        "def max_flow_rule(self, i,j):\n",
        "    return mdl.f[(i,j)] <= line_data[(i,j)][1]\n",
        "mdl.max_flow = Constraint(mdl.Lines, rule=max_flow_rule)\n",
        "\n",
        "# check\n",
        "mdl.max_flow.pprint()"
      ],
      "metadata": {
        "colab": {
          "base_uri": "https://localhost:8080/"
        },
        "id": "FLXu_gZT7Jfj",
        "outputId": "886181c3-595c-4fec-f328-3f42bdae0f90"
      },
      "execution_count": null,
      "outputs": [
        {
          "output_type": "stream",
          "name": "stdout",
          "text": [
            "max_flow : Size=1, Index=Lines, Active=True\n",
            "    Key    : Lower : Body   : Upper : Active\n",
            "    (1, 2) :  -Inf : f[1,2] :  10.0 :   True\n"
          ]
        }
      ]
    },
    {
      "cell_type": "code",
      "source": [
        "# Objective function\n",
        "total_benefit_consumers = sum(price_dem[n][k] * mdl.dem[n,k] for k in mdl.Consumers for n in mdl.Nodes)\n",
        "total_cost_generators = sum(price_gen[n][k] * mdl.gen[n,k] for k in mdl.Generators for n in mdl.Nodes)\n",
        "\n",
        "mdl.obj = Objective(expr=total_benefit_consumers - total_cost_generators, sense=maximize)\n",
        "\n",
        "# check\n",
        "mdl.obj.pprint()"
      ],
      "metadata": {
        "colab": {
          "base_uri": "https://localhost:8080/"
        },
        "id": "Z67OtCV07Lpk",
        "outputId": "97d47952-8926-4aa0-fcfe-21dba7ecf110"
      },
      "execution_count": null,
      "outputs": [
        {
          "output_type": "stream",
          "name": "stdout",
          "text": [
            "obj : Size=1, Index=None, Active=True\n",
            "    Key  : Active : Sense    : Expression\n",
            "    None :   True : maximize : 30*dem[1,k1] + 50*dem[2,k1] + 5*dem[1,k2] + 0*dem[2,k2] - (20*gen[1,g1] + 5*gen[2,g1] + 40*gen[1,g2] + 10*gen[2,g2])\n"
          ]
        }
      ]
    },
    {
      "cell_type": "code",
      "source": [
        "# check the whole model\n",
        "mdl.pprint()"
      ],
      "metadata": {
        "colab": {
          "base_uri": "https://localhost:8080/"
        },
        "id": "1pghieZm7RXj",
        "outputId": "72402936-1006-4c55-e4bf-bbdc5a2de5c8"
      },
      "execution_count": null,
      "outputs": [
        {
          "output_type": "stream",
          "name": "stdout",
          "text": [
            "4 Set Declarations\n",
            "    Consumers : Size=1, Index=None, Ordered=Insertion\n",
            "        Key  : Dimen : Domain : Size : Members\n",
            "        None :     1 :    Any :    2 : {'k1', 'k2'}\n",
            "    Generators : Size=1, Index=None, Ordered=Insertion\n",
            "        Key  : Dimen : Domain : Size : Members\n",
            "        None :     1 :    Any :    2 : {'g1', 'g2'}\n",
            "    Lines : Size=1, Index=None, Ordered=Insertion\n",
            "        Key  : Dimen : Domain : Size : Members\n",
            "        None :     2 :    Any :    1 : {(1, 2),}\n",
            "    Nodes : Size=1, Index=None, Ordered=Insertion\n",
            "        Key  : Dimen : Domain : Size : Members\n",
            "        None :     1 :    Any :    2 : {1, 2}\n",
            "\n",
            "3 Var Declarations\n",
            "    dem : Size=4, Index=Nodes*Consumers\n",
            "        Key       : Lower : Value : Upper : Fixed : Stale : Domain\n",
            "        (1, 'k1') :     0 :  None :  None : False :  True : NonNegativeReals\n",
            "        (1, 'k2') :     0 :  None :  None : False :  True : NonNegativeReals\n",
            "        (2, 'k1') :     0 :  None :  None : False :  True : NonNegativeReals\n",
            "        (2, 'k2') :     0 :  None :  None : False :  True : NonNegativeReals\n",
            "    f : Size=1, Index=Lines\n",
            "        Key    : Lower : Value : Upper : Fixed : Stale : Domain\n",
            "        (1, 2) :  None :  None :  None : False :  True :  Reals\n",
            "    gen : Size=4, Index=Nodes*Generators\n",
            "        Key       : Lower : Value : Upper : Fixed : Stale : Domain\n",
            "        (1, 'g1') :     0 :  None :  None : False :  True : NonNegativeReals\n",
            "        (1, 'g2') :     0 :  None :  None : False :  True : NonNegativeReals\n",
            "        (2, 'g1') :     0 :  None :  None : False :  True : NonNegativeReals\n",
            "        (2, 'g2') :     0 :  None :  None : False :  True : NonNegativeReals\n",
            "\n",
            "1 Objective Declarations\n",
            "    obj : Size=1, Index=None, Active=True\n",
            "        Key  : Active : Sense    : Expression\n",
            "        None :   True : maximize : 30*dem[1,k1] + 50*dem[2,k1] + 5*dem[1,k2] + 0*dem[2,k2] - (20*gen[1,g1] + 5*gen[2,g1] + 40*gen[1,g2] + 10*gen[2,g2])\n",
            "\n",
            "6 Constraint Declarations\n",
            "    dem_max_constrait : Size=4, Index=Nodes*Consumers, Active=True\n",
            "        Key       : Lower : Body      : Upper : Active\n",
            "        (1, 'k1') :  -Inf : dem[1,k1] : 100.0 :   True\n",
            "        (1, 'k2') :  -Inf : dem[1,k2] : 100.0 :   True\n",
            "        (2, 'k1') :  -Inf : dem[2,k1] :  80.0 :   True\n",
            "        (2, 'k2') :  -Inf : dem[2,k2] :  10.0 :   True\n",
            "    gen_max_constrait : Size=4, Index=Nodes*Generators, Active=True\n",
            "        Key       : Lower : Body      : Upper : Active\n",
            "        (1, 'g1') :  -Inf : gen[1,g1] :  30.0 :   True\n",
            "        (1, 'g2') :  -Inf : gen[1,g2] : 100.0 :   True\n",
            "        (2, 'g1') :  -Inf : gen[2,g1] :  20.0 :   True\n",
            "        (2, 'g2') :  -Inf : gen[2,g2] : 150.0 :   True\n",
            "    max_flow : Size=1, Index=Lines, Active=True\n",
            "        Key    : Lower : Body   : Upper : Active\n",
            "        (1, 2) :  -Inf : f[1,2] :  10.0 :   True\n",
            "    min_flow : Size=1, Index=Lines, Active=True\n",
            "        Key    : Lower : Body   : Upper : Active\n",
            "        (1, 2) : -10.0 : f[1,2] :  +Inf :   True\n",
            "    power_balance_1 : Size=1, Index=None, Active=True\n",
            "        Key  : Lower : Body                                                     : Upper : Active\n",
            "        None :   0.0 : dem[1,k1] + dem[1,k2] - (gen[1,g1] + gen[1,g2]) + f[1,2] :   0.0 :   True\n",
            "    power_balance_2 : Size=1, Index=None, Active=True\n",
            "        Key  : Lower : Body                                                     : Upper : Active\n",
            "        None :   0.0 : dem[2,k1] + dem[2,k2] - (gen[2,g1] + gen[2,g2]) - f[1,2] :   0.0 :   True\n",
            "\n",
            "14 Declarations: Consumers Generators Nodes Lines dem gen f dem_max_constrait gen_max_constrait power_balance_1 power_balance_2 min_flow max_flow obj\n"
          ]
        }
      ]
    },
    {
      "cell_type": "code",
      "source": [
        "# We have to tell Pyomo that we want dual variables\n",
        "# In Pyomo, the existence of an active Suffix with the name \"dual\"\n",
        "# that has an import style suffix direction will cause constraint\n",
        "# dual information to be collected into the solver results\n",
        "# (assuming the solver supplies dual information).\n",
        "mdl.dual = Suffix(direction=Suffix.IMPORT)"
      ],
      "metadata": {
        "id": "CBu0lmPZ7Vyb"
      },
      "execution_count": null,
      "outputs": []
    },
    {
      "cell_type": "code",
      "source": [
        "# Create an object representing the solver, in this case gurobi\n",
        "solver = SolverFactory(\"gurobi\")"
      ],
      "metadata": {
        "id": "nfg6Qxf97ZWL"
      },
      "execution_count": null,
      "outputs": []
    },
    {
      "cell_type": "code",
      "source": [
        "# Cplex options in interactive format\n",
        "# solver.options[\"timelimit\"] = 1800    # time limit in seconds\n",
        "\n",
        "# solver.options[\"simplex tolerances optimality\"] = 1e-9  # optimality tolerance\n",
        "# solver.options[\"simplex tolerances feasibility\"] = 1e-9 # feasibility tolerance\n",
        "\n",
        "# useful for MILP problems, i.e. involving binary variables\n",
        "# solver.options[\"mip tolerances integrality\"] = 0        # integrality tolerance\n",
        "# solver.options[\"mip tolerances mipgap\"] = 0    # mixed integer optimality gap tolerance\n",
        "# solver.options[\"mip tolerances absmipgap\"] = 0 # absolute mixed integer optimality gap tolerance\n",
        "\n",
        "# solve the optimization problem\n",
        "results = solver.solve(mdl, tee=True)"
      ],
      "metadata": {
        "colab": {
          "base_uri": "https://localhost:8080/"
        },
        "id": "zShdvUW37eSc",
        "outputId": "15a473cf-d56f-4dc6-cce4-586c2ce6f162"
      },
      "execution_count": null,
      "outputs": [
        {
          "output_type": "stream",
          "name": "stdout",
          "text": [
            "Read LP format model from file /tmp/tmpiv3i3ok9.pyomo.lp\n",
            "Reading time = 0.00 seconds\n",
            "x1: 12 rows, 9 columns, 20 nonzeros\n",
            "Set parameter QCPDual to value 1\n",
            "Gurobi Optimizer version 12.0.1 build v12.0.1rc0 (linux64 - \"Ubuntu 22.04.4 LTS\")\n",
            "\n",
            "CPU model: AMD EPYC 7B12, instruction set [SSE2|AVX|AVX2]\n",
            "Thread count: 1 physical cores, 2 logical processors, using up to 2 threads\n",
            "\n",
            "Non-default parameters:\n",
            "QCPDual  1\n",
            "\n",
            "Optimize a model with 12 rows, 9 columns and 20 nonzeros\n",
            "Model fingerprint: 0x761b018c\n",
            "Coefficient statistics:\n",
            "  Matrix range     [1e+00, 1e+00]\n",
            "  Objective range  [5e+00, 5e+01]\n",
            "  Bounds range     [0e+00, 0e+00]\n",
            "  RHS range        [1e+01, 2e+02]\n",
            "Presolve removed 11 rows and 4 columns\n",
            "Presolve time: 0.01s\n",
            "Presolved: 1 rows, 5 columns, 5 nonzeros\n",
            "\n",
            "Iteration    Objective       Primal Inf.    Dual Inf.      Time\n",
            "       0    6.9000000e+03   2.625000e+01   0.000000e+00      0s\n",
            "       1    3.8000000e+03   0.000000e+00   0.000000e+00      0s\n",
            "\n",
            "Solved in 1 iterations and 0.01 seconds (0.00 work units)\n",
            "Optimal objective  3.800000000e+03\n"
          ]
        }
      ]
    },
    {
      "cell_type": "code",
      "source": [
        "# other useful arguments\n",
        "# solve(mdl, tee=True, keepfiles=True, symbolic_solver_labels=True)\n",
        "# solve(mdl, tee=True, keepfiles=False, warmstart=True)\n",
        "# solve(mdl, tee=True, keepfiles=True, solnfile=file.sol)\n",
        "# solve(mdl, tee=True, keepfiles=False, warmstart=True, warmstart_file=file.sol)\n",
        "\n",
        "# ALWAYS check solver's termination condition\n",
        "if results.solver.termination_condition != TerminationCondition.optimal:\n",
        "    raise Exception\n",
        "else:\n",
        "    print(results.solver.status)\n",
        "    print(results.solver.termination_condition)\n",
        "    print(results.solver.termination_message)\n",
        "    # print(results.solver.time)\n"
      ],
      "metadata": {
        "colab": {
          "base_uri": "https://localhost:8080/"
        },
        "id": "HdUT2fLo7hSM",
        "outputId": "ebbf3675-664c-4b9a-b52a-1995b029c233"
      },
      "execution_count": null,
      "outputs": [
        {
          "output_type": "stream",
          "name": "stdout",
          "text": [
            "ok\n",
            "optimal\n",
            "Model was solved to optimality (subject to tolerances), and an optimal solution is available.\n"
          ]
        }
      ]
    },
    {
      "cell_type": "code",
      "source": [
        "# print solved variables\n",
        "mdl.dem.pprint()\n",
        "mdl.gen.pprint()\n",
        "\n",
        "# access single values\n",
        "print(\"demand k1 at node 1=\", mdl.dem[1, \"k1\"].value)\n",
        "\n",
        "# print objective function value\n",
        "print(\"welfare=\",value(mdl.obj))\n",
        "\n",
        "# print the market prices,\n",
        "# i.e. the dual variable of\n",
        "# the power balance constraints\n",
        "print(\"price at node 1=%.2f\" % mdl.dual[mdl.power_balance_1])\n",
        "print(\"price at node 2=%.2f\" % mdl.dual[mdl.power_balance_2])"
      ],
      "metadata": {
        "colab": {
          "base_uri": "https://localhost:8080/"
        },
        "id": "dkO-rSwE7lAs",
        "outputId": "929bf456-5e93-4b21-9506-afcc6c2cc7e8"
      },
      "execution_count": null,
      "outputs": [
        {
          "output_type": "stream",
          "name": "stdout",
          "text": [
            "dem : Size=4, Index=Nodes*Consumers\n",
            "    Key       : Lower : Value : Upper : Fixed : Stale : Domain\n",
            "    (1, 'k1') :     0 :  40.0 :  None : False : False : NonNegativeReals\n",
            "    (1, 'k2') :     0 :   0.0 :  None : False : False : NonNegativeReals\n",
            "    (2, 'k1') :     0 :  80.0 :  None : False : False : NonNegativeReals\n",
            "    (2, 'k2') :     0 :   0.0 :  None : False : False : NonNegativeReals\n",
            "gen : Size=4, Index=Nodes*Generators\n",
            "    Key       : Lower : Value : Upper : Fixed : Stale : Domain\n",
            "    (1, 'g1') :     0 :  30.0 :  None : False : False : NonNegativeReals\n",
            "    (1, 'g2') :     0 :   0.0 :  None : False : False : NonNegativeReals\n",
            "    (2, 'g1') :     0 :  20.0 :  None : False : False : NonNegativeReals\n",
            "    (2, 'g2') :     0 :  70.0 :  None : False : False : NonNegativeReals\n",
            "demand k1 at node 1= 40.0\n",
            "welfare= 3800.0\n",
            "price at node 1=30.00\n",
            "price at node 2=10.00\n"
          ]
        }
      ]
    }
  ]
}