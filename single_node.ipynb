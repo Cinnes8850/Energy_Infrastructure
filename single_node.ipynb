{
  "nbformat": 4,
  "nbformat_minor": 0,
  "metadata": {
    "colab": {
      "provenance": [],
      "include_colab_link": true
    },
    "kernelspec": {
      "name": "python3",
      "display_name": "Python 3"
    },
    "language_info": {
      "name": "python"
    }
  },
  "cells": [
    {
      "cell_type": "markdown",
      "metadata": {
        "id": "view-in-github",
        "colab_type": "text"
      },
      "source": [
        "<a href=\"https://colab.research.google.com/github/Cinnes8850/Energy_Infrastructure/blob/main/single_node.ipynb\" target=\"_parent\"><img src=\"https://colab.research.google.com/assets/colab-badge.svg\" alt=\"Open In Colab\"/></a>"
      ]
    },
    {
      "cell_type": "code",
      "source": [
        "# Install\n",
        "!pip install -q pyomo\n",
        "!pip install gurobipy"
      ],
      "metadata": {
        "colab": {
          "base_uri": "https://localhost:8080/"
        },
        "id": "bwl8DoXSu9lu",
        "outputId": "56b59b8b-0539-4fec-da9a-d85f8d421ca5"
      },
      "execution_count": 22,
      "outputs": [
        {
          "output_type": "stream",
          "name": "stdout",
          "text": [
            "Requirement already satisfied: gurobipy in /usr/local/lib/python3.11/dist-packages (12.0.1)\n"
          ]
        }
      ]
    },
    {
      "cell_type": "code",
      "execution_count": 23,
      "metadata": {
        "id": "hjO-aFS5uyhN"
      },
      "outputs": [],
      "source": [
        "# load libraries and solver\n",
        "from pyomo.environ import *\n",
        "from pyomo.opt import SolverFactory, TerminationCondition\n",
        "import sys\n",
        "sys.meta_path = [hook for hook in sys.meta_path if hasattr(hook, \"find_spec\")]\n",
        "import gurobipy as gp  # import the installed package"
      ]
    },
    {
      "cell_type": "code",
      "source": [
        "# create PYOMO optimization model\n",
        "mdl = ConcreteModel()"
      ],
      "metadata": {
        "id": "WGIpGt0lvTXW"
      },
      "execution_count": 24,
      "outputs": []
    },
    {
      "cell_type": "code",
      "source": [
        "# Sets\n",
        "mdl.Consumers = Set(initialize=[\"k1\", \"k2\"])\n",
        "mdl.Generators = Set(initialize=[\"g1\", \"g2\"])"
      ],
      "metadata": {
        "id": "YylqM_2UvaHe"
      },
      "execution_count": 25,
      "outputs": []
    },
    {
      "cell_type": "code",
      "source": [
        "# We can check the whole model with:\n",
        "mdl.pprint()\n",
        "# This goes back to see what has been defined for the model already and prints these out."
      ],
      "metadata": {
        "colab": {
          "base_uri": "https://localhost:8080/"
        },
        "id": "SICW4g_uveWl",
        "outputId": "24f2dcf0-0b20-47e2-831c-3a74ba5b616b"
      },
      "execution_count": 26,
      "outputs": [
        {
          "output_type": "stream",
          "name": "stdout",
          "text": [
            "2 Set Declarations\n",
            "    Consumers : Size=1, Index=None, Ordered=Insertion\n",
            "        Key  : Dimen : Domain : Size : Members\n",
            "        None :     1 :    Any :    2 : {'k1', 'k2'}\n",
            "    Generators : Size=1, Index=None, Ordered=Insertion\n",
            "        Key  : Dimen : Domain : Size : Members\n",
            "        None :     1 :    Any :    2 : {'g1', 'g2'}\n",
            "\n",
            "2 Declarations: Consumers Generators\n"
          ]
        }
      ]
    },
    {
      "cell_type": "code",
      "source": [
        "# Bid prices for demand and supply as Python dictionaries\n",
        "# (we can use also Param() to create a parameter with Pyomo)\n",
        "price_dem = {\"k1\": 50, \"k2\":  0}\n",
        "price_gen = {\"g1\": 20, \"g2\": 60}\n",
        "# print(price_dem)"
      ],
      "metadata": {
        "id": "1I55NemEvkN9"
      },
      "execution_count": 27,
      "outputs": []
    },
    {
      "cell_type": "code",
      "source": [
        "# Max quantity for demand and supply as Python dictionaries\n",
        "max_dem = {\"k1\": 100, \"k2\": 100}\n",
        "max_gen = {\"g1\": 30, \"g2\": 100}"
      ],
      "metadata": {
        "id": "bNd7v3SivpeN"
      },
      "execution_count": 28,
      "outputs": []
    },
    {
      "cell_type": "code",
      "source": [
        "# Variables for demand and generation\n",
        "mdl.dem = Var(mdl.Consumers, domain=NonNegativeReals)\n",
        "mdl.gen = Var(mdl.Generators, domain=NonNegativeReals)"
      ],
      "metadata": {
        "id": "iu3_Cla9wCee"
      },
      "execution_count": 29,
      "outputs": []
    },
    {
      "cell_type": "code",
      "source": [
        "# we can check individual components\n",
        "mdl.dem.pprint()\n",
        "mdl.gen.pprint()"
      ],
      "metadata": {
        "colab": {
          "base_uri": "https://localhost:8080/"
        },
        "id": "ds1QAHid4q3N",
        "outputId": "d861bb7b-4e7f-47c5-911e-adabb45cf7b9"
      },
      "execution_count": 30,
      "outputs": [
        {
          "output_type": "stream",
          "name": "stdout",
          "text": [
            "dem : Size=2, Index=Consumers\n",
            "    Key : Lower : Value : Upper : Fixed : Stale : Domain\n",
            "     k1 :     0 :  None :  None : False :  True : NonNegativeReals\n",
            "     k2 :     0 :  None :  None : False :  True : NonNegativeReals\n",
            "gen : Size=2, Index=Generators\n",
            "    Key : Lower : Value : Upper : Fixed : Stale : Domain\n",
            "     g1 :     0 :  None :  None : False :  True : NonNegativeReals\n",
            "     g2 :     0 :  None :  None : False :  True : NonNegativeReals\n"
          ]
        }
      ]
    },
    {
      "cell_type": "code",
      "source": [
        "# Constraints\n",
        "def dem_max_rule(self, k):\n",
        "    return mdl.dem[k] <= max_dem[k]\n",
        "mdl.dem_max_constrait = Constraint(mdl.Consumers, rule=dem_max_rule)"
      ],
      "metadata": {
        "id": "AO4BeAZ-4vvD"
      },
      "execution_count": 31,
      "outputs": []
    },
    {
      "cell_type": "code",
      "source": [
        "# check\n",
        "mdl.dem_max_constrait.pprint()"
      ],
      "metadata": {
        "colab": {
          "base_uri": "https://localhost:8080/"
        },
        "id": "qiVV0h6D4yKr",
        "outputId": "e494e58c-7db0-4079-c986-ae67c7e79f99"
      },
      "execution_count": 32,
      "outputs": [
        {
          "output_type": "stream",
          "name": "stdout",
          "text": [
            "dem_max_constrait : Size=2, Index=Consumers, Active=True\n",
            "    Key : Lower : Body    : Upper : Active\n",
            "     k1 :  -Inf : dem[k1] : 100.0 :   True\n",
            "     k2 :  -Inf : dem[k2] : 100.0 :   True\n"
          ]
        }
      ]
    },
    {
      "cell_type": "code",
      "source": [
        "def gen_max_rule(self, g):\n",
        "    return mdl.gen[g] <= max_gen[g]\n",
        "mdl.gen_max_constrait = Constraint(mdl.Generators, rule=gen_max_rule)"
      ],
      "metadata": {
        "id": "fTFW-ZlW4z88"
      },
      "execution_count": 33,
      "outputs": []
    },
    {
      "cell_type": "code",
      "source": [
        "# check\n",
        "mdl.gen_max_constrait.pprint()"
      ],
      "metadata": {
        "colab": {
          "base_uri": "https://localhost:8080/"
        },
        "id": "IAkQaSMf4460",
        "outputId": "bbb6f3a6-d965-45e2-b5a5-9b41f32ac67e"
      },
      "execution_count": 34,
      "outputs": [
        {
          "output_type": "stream",
          "name": "stdout",
          "text": [
            "gen_max_constrait : Size=2, Index=Generators, Active=True\n",
            "    Key : Lower : Body    : Upper : Active\n",
            "     g1 :  -Inf : gen[g1] : 100.0 :   True\n",
            "     g2 :  -Inf : gen[g2] : 100.0 :   True\n"
          ]
        }
      ]
    },
    {
      "cell_type": "code",
      "source": [
        "# power balance\n",
        "tot_dem = sum(mdl.dem[k] for k in mdl.Consumers)\n",
        "tot_gen = sum(mdl.gen[g] for g in mdl.Generators)\n",
        "mdl.power_balance = Constraint(expr=tot_dem == tot_gen)\n",
        "\n",
        "# check\n",
        "mdl.power_balance.pprint()"
      ],
      "metadata": {
        "colab": {
          "base_uri": "https://localhost:8080/"
        },
        "id": "joli1MD947sz",
        "outputId": "cd487773-cab7-40ec-b9f8-b3e20dddd086"
      },
      "execution_count": 35,
      "outputs": [
        {
          "output_type": "stream",
          "name": "stdout",
          "text": [
            "power_balance : Size=1, Index=None, Active=True\n",
            "    Key  : Lower : Body                                    : Upper : Active\n",
            "    None :   0.0 : dem[k1] + dem[k2] - (gen[g1] + gen[g2]) :   0.0 :   True\n"
          ]
        }
      ]
    },
    {
      "cell_type": "code",
      "source": [
        "# Objective function\n",
        "total_benefit_consumers = sum(price_dem[k] * mdl.dem[k] for k in mdl.Consumers)\n",
        "total_cost_generators = sum(price_gen[k] * mdl.gen[k] for k in mdl.Generators)\n",
        "\n",
        "mdl.obj = Objective(expr=total_benefit_consumers - total_cost_generators, sense=maximize)\n",
        "\n",
        "# check\n",
        "mdl.obj.pprint()"
      ],
      "metadata": {
        "colab": {
          "base_uri": "https://localhost:8080/"
        },
        "id": "W7T8sRvX4-8s",
        "outputId": "01dfa05b-8d4d-4a21-8e8a-f40e1f89c8ce"
      },
      "execution_count": 36,
      "outputs": [
        {
          "output_type": "stream",
          "name": "stdout",
          "text": [
            "obj : Size=1, Index=None, Active=True\n",
            "    Key  : Active : Sense    : Expression\n",
            "    None :   True : maximize : 50*dem[k1] + 0*dem[k2] - (20*gen[g1] + 60*gen[g2])\n"
          ]
        }
      ]
    },
    {
      "cell_type": "code",
      "source": [
        "# check the whole model\n",
        "mdl.pprint()"
      ],
      "metadata": {
        "colab": {
          "base_uri": "https://localhost:8080/"
        },
        "id": "SCqJ-P8T5B4U",
        "outputId": "a90a1250-4a88-4bf1-a58f-211403f462a5"
      },
      "execution_count": 37,
      "outputs": [
        {
          "output_type": "stream",
          "name": "stdout",
          "text": [
            "2 Set Declarations\n",
            "    Consumers : Size=1, Index=None, Ordered=Insertion\n",
            "        Key  : Dimen : Domain : Size : Members\n",
            "        None :     1 :    Any :    2 : {'k1', 'k2'}\n",
            "    Generators : Size=1, Index=None, Ordered=Insertion\n",
            "        Key  : Dimen : Domain : Size : Members\n",
            "        None :     1 :    Any :    2 : {'g1', 'g2'}\n",
            "\n",
            "2 Var Declarations\n",
            "    dem : Size=2, Index=Consumers\n",
            "        Key : Lower : Value : Upper : Fixed : Stale : Domain\n",
            "         k1 :     0 :  None :  None : False :  True : NonNegativeReals\n",
            "         k2 :     0 :  None :  None : False :  True : NonNegativeReals\n",
            "    gen : Size=2, Index=Generators\n",
            "        Key : Lower : Value : Upper : Fixed : Stale : Domain\n",
            "         g1 :     0 :  None :  None : False :  True : NonNegativeReals\n",
            "         g2 :     0 :  None :  None : False :  True : NonNegativeReals\n",
            "\n",
            "1 Objective Declarations\n",
            "    obj : Size=1, Index=None, Active=True\n",
            "        Key  : Active : Sense    : Expression\n",
            "        None :   True : maximize : 50*dem[k1] + 0*dem[k2] - (20*gen[g1] + 60*gen[g2])\n",
            "\n",
            "3 Constraint Declarations\n",
            "    dem_max_constrait : Size=2, Index=Consumers, Active=True\n",
            "        Key : Lower : Body    : Upper : Active\n",
            "         k1 :  -Inf : dem[k1] : 100.0 :   True\n",
            "         k2 :  -Inf : dem[k2] : 100.0 :   True\n",
            "    gen_max_constrait : Size=2, Index=Generators, Active=True\n",
            "        Key : Lower : Body    : Upper : Active\n",
            "         g1 :  -Inf : gen[g1] : 100.0 :   True\n",
            "         g2 :  -Inf : gen[g2] : 100.0 :   True\n",
            "    power_balance : Size=1, Index=None, Active=True\n",
            "        Key  : Lower : Body                                    : Upper : Active\n",
            "        None :   0.0 : dem[k1] + dem[k2] - (gen[g1] + gen[g2]) :   0.0 :   True\n",
            "\n",
            "8 Declarations: Consumers Generators dem gen dem_max_constrait gen_max_constrait power_balance obj\n"
          ]
        }
      ]
    },
    {
      "cell_type": "code",
      "source": [
        "# We have to tell Pyomo that we want dual variables\n",
        "# In Pyomo, the existence of an active Suffix with the name \"dual\"\n",
        "# that has an import style suffix direction will cause constraint\n",
        "# dual information to be collected into the solver results\n",
        "# (assuming the solver supplies dual information).\n",
        "mdl.dual = Suffix(direction=Suffix.IMPORT)"
      ],
      "metadata": {
        "id": "i7R0wrGI5DtL"
      },
      "execution_count": 38,
      "outputs": []
    },
    {
      "cell_type": "code",
      "source": [
        "# Create an object representing the solver, e.g. cplex, gurobi, or mosek\n",
        "solver = SolverFactory(\"gurobi\")"
      ],
      "metadata": {
        "id": "ZG6UUxou5GLD"
      },
      "execution_count": 39,
      "outputs": []
    },
    {
      "cell_type": "code",
      "source": [
        "# Cplex options in interactive format\n",
        "# solver.options[\"timelimit\"] = 1800    # time limit in seconds\n",
        "\n",
        "# solver.options[\"simplex tolerances optimality\"] = 1e-9  # optimality tolerance\n",
        "# solver.options[\"simplex tolerances feasibility\"] = 1e-9 # feasibility tolerance\n",
        "\n",
        "# useful for MILP problems, i.e. involving binary variables\n",
        "# solver.options[\"mip tolerances integrality\"] = 0        # integrality tolerance\n",
        "# solver.options[\"mip tolerances mipgap\"] = 0             # mixed integer optimality gap tolerance\n",
        "# solver.options[\"mip tolerances absmipgap\"] = 0          # absolute mixed integer optimality gap tolerance\n",
        "\n",
        "# solve the optimization problem\n",
        "results = solver.solve(mdl, tee=True)"
      ],
      "metadata": {
        "colab": {
          "base_uri": "https://localhost:8080/"
        },
        "id": "8N4K7J3G5IIT",
        "outputId": "a1072af2-b63f-441d-c481-547047dfc311"
      },
      "execution_count": 40,
      "outputs": [
        {
          "output_type": "stream",
          "name": "stdout",
          "text": [
            "Read LP format model from file /tmp/tmpmik_4bsk.pyomo.lp\n",
            "Reading time = 0.00 seconds\n",
            "x1: 5 rows, 4 columns, 8 nonzeros\n",
            "Set parameter QCPDual to value 1\n",
            "Gurobi Optimizer version 12.0.1 build v12.0.1rc0 (linux64 - \"Ubuntu 22.04.4 LTS\")\n",
            "\n",
            "CPU model: AMD EPYC 7B12, instruction set [SSE2|AVX|AVX2]\n",
            "Thread count: 1 physical cores, 2 logical processors, using up to 2 threads\n",
            "\n",
            "Non-default parameters:\n",
            "QCPDual  1\n",
            "\n",
            "Optimize a model with 5 rows, 4 columns and 8 nonzeros\n",
            "Model fingerprint: 0x726e5562\n",
            "Coefficient statistics:\n",
            "  Matrix range     [1e+00, 1e+00]\n",
            "  Objective range  [2e+01, 6e+01]\n",
            "  Bounds range     [0e+00, 0e+00]\n",
            "  RHS range        [1e+02, 1e+02]\n",
            "Presolve removed 5 rows and 4 columns\n",
            "Presolve time: 0.00s\n",
            "Presolve: All rows and columns removed\n",
            "Iteration    Objective       Primal Inf.    Dual Inf.      Time\n",
            "       0    3.0000000e+03   0.000000e+00   0.000000e+00      0s\n",
            "\n",
            "Solved in 0 iterations and 0.00 seconds (0.00 work units)\n",
            "Optimal objective  3.000000000e+03\n"
          ]
        }
      ]
    },
    {
      "cell_type": "code",
      "source": [
        "# other useful arguments\n",
        "# solve(mdl, tee=True, keepfiles=True, symbolic_solver_labels=True)\n",
        "# solve(mdl, tee=True, keepfiles=False, warmstart=True)\n",
        "# solve(mdl, tee=True, keepfiles=True, solnfile=file.sol)\n",
        "# solve(mdl, tee=True, keepfiles=False, warmstart=True, warmstart_file=file.sol)\n",
        "\n",
        "# ALWAYS check solver's termination condition\n",
        "if results.solver.termination_condition != TerminationCondition.optimal:\n",
        "    raise Exception\n",
        "else:\n",
        "    print(results.solver.status)\n",
        "    print(results.solver.termination_condition)\n",
        "    print(results.solver.termination_message)\n",
        "    # print(results.solver.time)"
      ],
      "metadata": {
        "colab": {
          "base_uri": "https://localhost:8080/"
        },
        "id": "Jcty-RVB5Mlb",
        "outputId": "e7fa0148-edab-4eec-82d9-5ff48f701d09"
      },
      "execution_count": 41,
      "outputs": [
        {
          "output_type": "stream",
          "name": "stdout",
          "text": [
            "ok\n",
            "optimal\n",
            "Model was solved to optimality (subject to tolerances), and an optimal solution is available.\n"
          ]
        }
      ]
    },
    {
      "cell_type": "code",
      "source": [
        "# print solved variables\n",
        "mdl.dem.pprint()\n",
        "mdl.gen.pprint()\n",
        "\n",
        "# access single values\n",
        "print(\"demand k1=\",mdl.dem[\"k1\"].value)\n",
        "\n",
        "# print objective function value\n",
        "print(\"welfare=\",value(mdl.obj))\n",
        "\n",
        "# print the market price,\n",
        "# i.e. the dual variable of\n",
        "# the power balance constraint\n",
        "print(\"market price=%.2f\" % (mdl.dual[mdl.power_balance]))"
      ],
      "metadata": {
        "colab": {
          "base_uri": "https://localhost:8080/"
        },
        "id": "Klhgq_7y5PmT",
        "outputId": "72add7e5-273b-41d6-8c0b-c3ab7bb2c920"
      },
      "execution_count": 42,
      "outputs": [
        {
          "output_type": "stream",
          "name": "stdout",
          "text": [
            "dem : Size=2, Index=Consumers\n",
            "    Key : Lower : Value : Upper : Fixed : Stale : Domain\n",
            "     k1 :     0 : 100.0 :  None : False : False : NonNegativeReals\n",
            "     k2 :     0 :   0.0 :  None : False : False : NonNegativeReals\n",
            "gen : Size=2, Index=Generators\n",
            "    Key : Lower : Value : Upper : Fixed : Stale : Domain\n",
            "     g1 :     0 : 100.0 :  None : False : False : NonNegativeReals\n",
            "     g2 :     0 :   0.0 :  None : False : False : NonNegativeReals\n",
            "demand k1= 100.0\n",
            "welfare= 3000.0\n",
            "market price=50.00\n"
          ]
        }
      ]
    }
  ]
}